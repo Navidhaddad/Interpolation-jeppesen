{
 "cells": [
  {
   "cell_type": "code",
   "execution_count": 3,
   "metadata": {},
   "outputs": [],
   "source": [
    "from datetime import datetime\n",
    "\n",
    "import pandas as pd\n",
    "import numpy as np\n",
    "\n",
    "import codecs, json \n",
    "\n",
    "import matplotlib.pyplot as plt\n",
    "import seaborn as sns\n",
    "sns.set()\n",
    "\n",
    "from sklearn.model_selection import train_test_split\n",
    "\n",
    "from sklearn.metrics import mean_squared_error\n",
    "from sklearn.preprocessing import MinMaxScaler\n",
    "\n",
    "import scipy\n",
    "import time\n",
    "\n",
    "import scipy_interpolation_functions as scipy_int"
   ]
  },
  {
   "cell_type": "code",
   "execution_count": 4,
   "metadata": {},
   "outputs": [],
   "source": [
    "def read_data():    \n",
    "    with open('/Users/calmaleh/Desktop/school/project_course/jeppesen/data_rich_ac.bsad') as json_file:\n",
    "        json_data = json.load(json_file)\n",
    "\n",
    "    frames = []\n",
    "    for j in range(len(json_data['tables'])):\n",
    "        df = pd.DataFrame(np.array(json_data['tables'][j]['table'])[:,:], \n",
    "                               columns = json_data['tables'][j]['header']['variables'][:])\n",
    "        df['state'] = json_data['tables'][j]['header']['flightphase']\n",
    "        if df['state'][0] == 'cruise':\n",
    "            frames.append(df)\n",
    "\n",
    "    df = pd.concat(frames,ignore_index=True)\n",
    "    df = df[['DISA','ALTITUDE','MASS','MACH','FUELFLOW']]\n",
    "\n",
    "    scaler = MinMaxScaler()\n",
    "    df = scaler.fit_transform(df)\n",
    "\n",
    "    df = pd.DataFrame(df, columns = ['DISA','ALTITUDE','MASS','MACH','FUELFLOW'])\n",
    "\n",
    "    X = df.drop(['FUELFLOW'], axis=1)\n",
    "    y = df.FUELFLOW\n",
    "\n",
    "    X_train, X_test, y_train, y_test = train_test_split(X, y, test_size=0.001)\n",
    "    return X_train, X_test, y_train, y_test"
   ]
  },
  {
   "cell_type": "code",
   "execution_count": 22,
   "metadata": {},
   "outputs": [],
   "source": [
    "X_train, X_test, y_train, y_test = read_data()"
   ]
  },
  {
   "cell_type": "code",
   "execution_count": 26,
   "metadata": {},
   "outputs": [],
   "source": [
    "##################################################################\n",
    "\n",
    "#Pandas linear\n",
    "\n",
    "##################################################################"
   ]
  },
  {
   "cell_type": "code",
   "execution_count": 30,
   "metadata": {},
   "outputs": [
    {
     "name": "stderr",
     "output_type": "stream",
     "text": [
      "/anaconda3/envs/py36/lib/python3.6/site-packages/pandas/core/frame.py:7123: FutureWarning: Sorting because non-concatenation axis is not aligned. A future version\n",
      "of pandas will change to not sort by default.\n",
      "\n",
      "To accept the future behavior, pass 'sort=False'.\n",
      "\n",
      "To retain the current behavior and silence the warning, pass 'sort=True'.\n",
      "\n",
      "  sort=sort,\n"
     ]
    },
    {
     "name": "stdout",
     "output_type": "stream",
     "text": [
      "Time:  3.638432025909424\n",
      "MSE:  0.03604559126773098\n"
     ]
    },
    {
     "data": {
      "image/png": "[encoded data removed]",
      "text/plain": [
       "<Figure size 432x288 with 1 Axes>"
      ]
     },
     "metadata": {
      "needs_background": "light"
     },
     "output_type": "display_data"
    },
    {
     "data": {
      "image/png": "[encoded data removed]",
      "text/plain": [
       "<Figure size 432x288 with 2 Axes>"
      ]
     },
     "metadata": {
      "needs_background": "light"
     },
     "output_type": "display_data"
    }
   ],
   "source": [
    "start = time.time()\n",
    "\n",
    "output = np.zeros((len(y_test), 2))\n",
    "\n",
    "for i in range(len(X_test)):\n",
    "    test = X_test.iloc[i]\n",
    "    y_check = y_test.iloc[i]\n",
    "    \n",
    "    X_train_1 = X_train\n",
    "    X_train_1['distance'] = X_train_1.sub(test).pow(2).sum(1).pow(0.5) # maybe cutoff based on input\n",
    "\n",
    "    end = 16\n",
    "    z = X_train_1.sort_values('distance').iloc[0:end]\n",
    "    z = z.drop(['distance'],axis = 1)\n",
    "    z = z.reset_index()\n",
    "    z.columns = ['index_', 'DISA', 'ALTITUDE', 'MASS', 'MACH']\n",
    "    y_train.columns = ['index_', 'FUELFLOW']\n",
    "    z = z.join(y_train, on = 'index_', how = 'left')\n",
    "    z = z.drop(['index_'], axis=1)\n",
    "\n",
    "    z_inter = z[0:1].append(test)\n",
    "    z_inter = z_inter.append(z[2:end])\n",
    "\n",
    "    y_inter = z_inter.interpolate(method = 'linear')['FUELFLOW']\n",
    "    \n",
    "    output[i,0] = y_check\n",
    "    output[i,1] = y_inter.iloc[1]\n",
    "    \n",
    "end = time.time()\n",
    "\n",
    "print('Time: ',end - start)\n",
    "print('MSE: ', mean_squared_error(output[0], output[1]))\n",
    "\n",
    "plt.scatter(np.arange(0,len(output)),output[:,0]-output[:,1])\n",
    "plt.title('Residual plot (y interpolated - y actual)')\n",
    "plt.show()\n",
    "\n",
    "X_test['y_interpolate'] = output[:,1]\n",
    "X_test['y_actual'] = output[:,0]\n",
    "\n",
    "plt.subplot(1,2,1)\n",
    "sns.scatterplot(x='ALTITUDE', y='y_actual', data = X_test, color ='b')\n",
    "plt.subplot(1,2,2)\n",
    "sns.scatterplot(x='ALTITUDE', y= 'y_interpolate', data = X_test, color ='r')\n",
    "plt.tight_layout()"
   ]
  },
  {
   "cell_type": "code",
   "execution_count": 33,
   "metadata": {},
   "outputs": [
    {
     "data": {
      "text/html": [
       "<div>\n",
       "<style scoped>\n",
       "    .dataframe tbody tr th:only-of-type {\n",
       "        vertical-align: middle;\n",
       "    }\n",
       "\n",
       "    .dataframe tbody tr th {\n",
       "        vertical-align: top;\n",
       "    }\n",
       "\n",
       "    .dataframe thead th {\n",
       "        text-align: right;\n",
       "    }\n",
       "</style>\n",
       "<table border=\"1\" class=\"dataframe\">\n",
       "  <thead>\n",
       "    <tr style=\"text-align: right;\">\n",
       "      <th></th>\n",
       "      <th>DISA</th>\n",
       "      <th>ALTITUDE</th>\n",
       "      <th>MASS</th>\n",
       "      <th>MACH</th>\n",
       "      <th>distance</th>\n",
       "    </tr>\n",
       "  </thead>\n",
       "  <tbody>\n",
       "    <tr>\n",
       "      <td>16090</td>\n",
       "      <td>0.833333</td>\n",
       "      <td>0.854271</td>\n",
       "      <td>0.365854</td>\n",
       "      <td>0.935484</td>\n",
       "      <td>1.346489</td>\n",
       "    </tr>\n",
       "    <tr>\n",
       "      <td>11240</td>\n",
       "      <td>0.000000</td>\n",
       "      <td>0.477387</td>\n",
       "      <td>0.731707</td>\n",
       "      <td>0.870671</td>\n",
       "      <td>0.882779</td>\n",
       "    </tr>\n",
       "    <tr>\n",
       "      <td>58667</td>\n",
       "      <td>0.666667</td>\n",
       "      <td>0.150754</td>\n",
       "      <td>0.609756</td>\n",
       "      <td>0.623279</td>\n",
       "      <td>0.839605</td>\n",
       "    </tr>\n",
       "    <tr>\n",
       "      <td>54495</td>\n",
       "      <td>1.000000</td>\n",
       "      <td>0.879397</td>\n",
       "      <td>0.487805</td>\n",
       "      <td>0.580645</td>\n",
       "      <td>1.368779</td>\n",
       "    </tr>\n",
       "    <tr>\n",
       "      <td>40094</td>\n",
       "      <td>0.666667</td>\n",
       "      <td>0.050251</td>\n",
       "      <td>0.121951</td>\n",
       "      <td>0.387097</td>\n",
       "      <td>0.685064</td>\n",
       "    </tr>\n",
       "    <tr>\n",
       "      <td>...</td>\n",
       "      <td>...</td>\n",
       "      <td>...</td>\n",
       "      <td>...</td>\n",
       "      <td>...</td>\n",
       "      <td>...</td>\n",
       "    </tr>\n",
       "    <tr>\n",
       "      <td>39242</td>\n",
       "      <td>0.000000</td>\n",
       "      <td>0.804020</td>\n",
       "      <td>0.121951</td>\n",
       "      <td>0.387097</td>\n",
       "      <td>0.794301</td>\n",
       "    </tr>\n",
       "    <tr>\n",
       "      <td>73242</td>\n",
       "      <td>1.000000</td>\n",
       "      <td>0.603015</td>\n",
       "      <td>0.731707</td>\n",
       "      <td>0.806452</td>\n",
       "      <td>1.355839</td>\n",
       "    </tr>\n",
       "    <tr>\n",
       "      <td>22562</td>\n",
       "      <td>0.166667</td>\n",
       "      <td>0.829146</td>\n",
       "      <td>0.121951</td>\n",
       "      <td>0.983871</td>\n",
       "      <td>1.081715</td>\n",
       "    </tr>\n",
       "    <tr>\n",
       "      <td>34308</td>\n",
       "      <td>0.166667</td>\n",
       "      <td>0.376884</td>\n",
       "      <td>0.975610</td>\n",
       "      <td>0.290323</td>\n",
       "      <td>0.828799</td>\n",
       "    </tr>\n",
       "    <tr>\n",
       "      <td>22011</td>\n",
       "      <td>0.000000</td>\n",
       "      <td>0.402010</td>\n",
       "      <td>0.609756</td>\n",
       "      <td>0.807127</td>\n",
       "      <td>0.736870</td>\n",
       "    </tr>\n",
       "  </tbody>\n",
       "</table>\n",
       "<p>78771 rows × 5 columns</p>\n",
       "</div>"
      ],
      "text/plain": [
       "           DISA  ALTITUDE      MASS      MACH  distance\n",
       "16090  0.833333  0.854271  0.365854  0.935484  1.346489\n",
       "11240  0.000000  0.477387  0.731707  0.870671  0.882779\n",
       "58667  0.666667  0.150754  0.609756  0.623279  0.839605\n",
       "54495  1.000000  0.879397  0.487805  0.580645  1.368779\n",
       "40094  0.666667  0.050251  0.121951  0.387097  0.685064\n",
       "...         ...       ...       ...       ...       ...\n",
       "39242  0.000000  0.804020  0.121951  0.387097  0.794301\n",
       "73242  1.000000  0.603015  0.731707  0.806452  1.355839\n",
       "22562  0.166667  0.829146  0.121951  0.983871  1.081715\n",
       "34308  0.166667  0.376884  0.975610  0.290323  0.828799\n",
       "22011  0.000000  0.402010  0.609756  0.807127  0.736870\n",
       "\n",
       "[78771 rows x 5 columns]"
      ]
     },
     "execution_count": 33,
     "metadata": {},
     "output_type": "execute_result"
    }
   ],
   "source": [
    "X_train"
   ]
  },
  {
   "cell_type": "code",
   "execution_count": 20,
   "metadata": {},
   "outputs": [],
   "source": [
    "##################################################################\n",
    "\n",
    "#Scipy linear\n",
    "\n",
    "##################################################################"
   ]
  },
  {
   "cell_type": "code",
   "execution_count": 21,
   "metadata": {},
   "outputs": [
    {
     "ename": "ValueError",
     "evalue": "cannot reshape array of size 6 into shape (4)",
     "output_type": "error",
     "traceback": [
      "\u001b[0;31m---------------------------------------------------------------------------\u001b[0m",
      "\u001b[0;31mValueError\u001b[0m                                Traceback (most recent call last)",
      "\u001b[0;32m<ipython-input-21-37b6e3f6e203>\u001b[0m in \u001b[0;36m<module>\u001b[0;34m\u001b[0m\n\u001b[1;32m     10\u001b[0m     \u001b[0my_check\u001b[0m \u001b[0;34m=\u001b[0m \u001b[0my_test\u001b[0m\u001b[0;34m.\u001b[0m\u001b[0miloc\u001b[0m\u001b[0;34m[\u001b[0m\u001b[0mi\u001b[0m\u001b[0;34m]\u001b[0m\u001b[0;34m\u001b[0m\u001b[0;34m\u001b[0m\u001b[0m\n\u001b[1;32m     11\u001b[0m \u001b[0;34m\u001b[0m\u001b[0m\n\u001b[0;32m---> 12\u001b[0;31m     \u001b[0my_inter\u001b[0m \u001b[0;34m=\u001b[0m \u001b[0mscipy_int\u001b[0m\u001b[0;34m.\u001b[0m\u001b[0mscipy_interpolation_linear\u001b[0m\u001b[0;34m(\u001b[0m\u001b[0mX_train_scipy\u001b[0m\u001b[0;34m,\u001b[0m \u001b[0mtest\u001b[0m\u001b[0;34m)\u001b[0m\u001b[0;34m\u001b[0m\u001b[0;34m\u001b[0m\u001b[0m\n\u001b[0m\u001b[1;32m     13\u001b[0m \u001b[0;34m\u001b[0m\u001b[0m\n\u001b[1;32m     14\u001b[0m     \u001b[0;32mif\u001b[0m \u001b[0mnp\u001b[0m\u001b[0;34m.\u001b[0m\u001b[0misnan\u001b[0m\u001b[0;34m(\u001b[0m\u001b[0my_inter\u001b[0m\u001b[0;34m)\u001b[0m\u001b[0;34m==\u001b[0m \u001b[0;32mTrue\u001b[0m \u001b[0;34m:\u001b[0m \u001b[0;31m#Extrapolate\u001b[0m\u001b[0;34m\u001b[0m\u001b[0;34m\u001b[0m\u001b[0m\n",
      "\u001b[0;32m~/Documents/GitHub/Interpolation-jeppesen/scipy_interpolation_functions.py\u001b[0m in \u001b[0;36mscipy_interpolation_linear\u001b[0;34m(data, interpolation_point)\u001b[0m\n\u001b[1;32m     14\u001b[0m \u001b[0;34m\u001b[0m\u001b[0m\n\u001b[1;32m     15\u001b[0m \u001b[0;34m\u001b[0m\u001b[0m\n\u001b[0;32m---> 16\u001b[0;31m     \u001b[0minterpolated_val\u001b[0m \u001b[0;34m=\u001b[0m \u001b[0mscipy\u001b[0m\u001b[0;34m.\u001b[0m\u001b[0minterpolate\u001b[0m\u001b[0;34m.\u001b[0m\u001b[0mgriddata\u001b[0m\u001b[0;34m(\u001b[0m\u001b[0mpoints\u001b[0m\u001b[0;34m,\u001b[0m \u001b[0mvalues\u001b[0m\u001b[0;34m,\u001b[0m \u001b[0minterpolation_point\u001b[0m\u001b[0;34m,\u001b[0m \u001b[0mmethod\u001b[0m\u001b[0;34m=\u001b[0m\u001b[0;34m'linear'\u001b[0m\u001b[0;34m,\u001b[0m \u001b[0mrescale\u001b[0m\u001b[0;34m=\u001b[0m\u001b[0;34m'TRUE'\u001b[0m\u001b[0;34m)\u001b[0m\u001b[0;34m\u001b[0m\u001b[0;34m\u001b[0m\u001b[0m\n\u001b[0m\u001b[1;32m     17\u001b[0m \u001b[0;34m\u001b[0m\u001b[0m\n\u001b[1;32m     18\u001b[0m \u001b[0;34m\u001b[0m\u001b[0m\n",
      "\u001b[0;32m/anaconda3/envs/py36/lib/python3.6/site-packages/scipy/interpolate/ndgriddata.py\u001b[0m in \u001b[0;36mgriddata\u001b[0;34m(points, values, xi, method, fill_value, rescale)\u001b[0m\n\u001b[1;32m    221\u001b[0m         ip = LinearNDInterpolator(points, values, fill_value=fill_value,\n\u001b[1;32m    222\u001b[0m                                   rescale=rescale)\n\u001b[0;32m--> 223\u001b[0;31m         \u001b[0;32mreturn\u001b[0m \u001b[0mip\u001b[0m\u001b[0;34m(\u001b[0m\u001b[0mxi\u001b[0m\u001b[0;34m)\u001b[0m\u001b[0;34m\u001b[0m\u001b[0;34m\u001b[0m\u001b[0m\n\u001b[0m\u001b[1;32m    224\u001b[0m     \u001b[0;32melif\u001b[0m \u001b[0mmethod\u001b[0m \u001b[0;34m==\u001b[0m \u001b[0;34m'cubic'\u001b[0m \u001b[0;32mand\u001b[0m \u001b[0mndim\u001b[0m \u001b[0;34m==\u001b[0m \u001b[0;36m2\u001b[0m\u001b[0;34m:\u001b[0m\u001b[0;34m\u001b[0m\u001b[0;34m\u001b[0m\u001b[0m\n\u001b[1;32m    225\u001b[0m         ip = CloughTocher2DInterpolator(points, values, fill_value=fill_value,\n",
      "\u001b[0;32minterpnd.pyx\u001b[0m in \u001b[0;36mscipy.interpolate.interpnd.NDInterpolatorBase.__call__\u001b[0;34m()\u001b[0m\n",
      "\u001b[0;32minterpnd.pyx\u001b[0m in \u001b[0;36mscipy.interpolate.interpnd._ndim_coords_from_arrays\u001b[0;34m()\u001b[0m\n",
      "\u001b[0;31mValueError\u001b[0m: cannot reshape array of size 6 into shape (4)"
     ]
    }
   ],
   "source": [
    "X_train_scipy = X_train\n",
    "X_train_scipy['FUELFLOW'] = y_train\n",
    "\n",
    "start = time.time()\n",
    "\n",
    "output = np.zeros((len(y_test), 2))\n",
    "\n",
    "for i in range(len(X_test)):\n",
    "    test = X_test.iloc[i]\n",
    "    y_check = y_test.iloc[i]\n",
    "    \n",
    "    y_inter = scipy_int.scipy_interpolation_linear(X_train_scipy, test)\n",
    "    \n",
    "    if np.isnan(y_inter)== True : #Extrapolate\n",
    "        y = X_train_scipy.FUELFLOW\n",
    "        X = X_train_scipy.drop(['FUELFLOW'], axis=1)\n",
    "        point,value = scipy_int.closest_points(X,y,test,1)\n",
    "        y_inter = value\n",
    "    \n",
    "    output[i,0] = y_check\n",
    "    output[i,1] = y_inter[0]\n",
    "    \n",
    "end = time.time()\n",
    "\n",
    "print('Time: ',end - start)\n",
    "print('MSE: ', mean_squared_error(output[0], output[1]))\n",
    "\n",
    "plt.scatter(np.arange(0,len(output)),output[:,0]-output[:,1])\n",
    "plt.title('Residual plot (y interpolated - y actual)')\n",
    "plt.show()\n",
    "\n",
    "X_test['y_interpolate'] = output[:,1]\n",
    "X_test['y_actual'] = output[:,0]\n",
    "\n",
    "plt.subplot(1,2,1)\n",
    "sns.scatterplot(x='ALTITUDE', y='y_actual', data = X_test, color ='b')\n",
    "plt.subplot(1,2,2)\n",
    "sns.scatterplot(x='ALTITUDE', y= 'y_interpolate', data = X_test, color ='r')\n",
    "plt.tight_layout()"
   ]
  },
  {
   "cell_type": "code",
   "execution_count": 9,
   "metadata": {},
   "outputs": [],
   "source": [
    "##################################################################\n",
    "\n",
    "#Scipy nearest\n",
    "\n",
    "##################################################################"
   ]
  },
  {
   "cell_type": "code",
   "execution_count": 13,
   "metadata": {},
   "outputs": [
    {
     "name": "stdout",
     "output_type": "stream",
     "text": [
      "Time:  8.937893152236938\n",
      "MSE:  0.0013689898398518204\n"
     ]
    },
    {
     "data": {
      "image/png": "[encoded data removed]",
      "text/plain": [
       "<Figure size 432x288 with 1 Axes>"
      ]
     },
     "metadata": {
      "needs_background": "light"
     },
     "output_type": "display_data"
    },
    {
     "data": {
      "image/png": "[encoded data removed]",
      "text/plain": [
       "<Figure size 432x288 with 2 Axes>"
      ]
     },
     "metadata": {
      "needs_background": "light"
     },
     "output_type": "display_data"
    }
   ],
   "source": [
    "\n",
    "X_train_scipy = X_train\n",
    "X_train_scipy['FUELFLOW'] = y_train\n",
    "\n",
    "start = time.time()\n",
    "\n",
    "output = np.zeros((len(y_test), 2))\n",
    "\n",
    "for i in range(len(X_test)):\n",
    "    test = X_test.iloc[i]\n",
    "    y_check = y_test.iloc[i]\n",
    "    \n",
    "    y_inter = scipy_int.scipy_interpolation_nearest(X_train_scipy, test)\n",
    "\n",
    "    output[i,0] = y_check\n",
    "    output[i,1] = y_inter.iloc[0]\n",
    "    \n",
    "end = time.time()\n",
    "\n",
    "print('Time: ',end - start)\n",
    "print('MSE: ', mean_squared_error(output[0], output[1]))\n",
    "\n",
    "plt.scatter(np.arange(0,len(output)),output[:,0]-output[:,1])\n",
    "plt.title('Residual plot (y interpolated - y actual)')\n",
    "plt.show()\n",
    "\n",
    "X_test['y_interpolate'] = output[:,1]\n",
    "X_test['y_actual'] = output[:,0]\n",
    "\n",
    "plt.subplot(1,2,1)\n",
    "sns.scatterplot(x='ALTITUDE', y='y_actual', data = X_test, color ='b')\n",
    "plt.subplot(1,2,2)\n",
    "sns.scatterplot(x='ALTITUDE', y= 'y_interpolate', data = X_test, color ='r')\n",
    "plt.tight_layout()"
   ]
  },
  {
   "cell_type": "code",
   "execution_count": null,
   "metadata": {},
   "outputs": [],
   "source": []
  }
 ],
 "metadata": {
  "kernelspec": {
   "display_name": "Python 3",
   "language": "python",
   "name": "python3"
  },
  "language_info": {
   "codemirror_mode": {
    "name": "ipython",
    "version": 3
   },
   "file_extension": ".py",
   "mimetype": "text/x-python",
   "name": "python",
   "nbconvert_exporter": "python",
   "pygments_lexer": "ipython3",
   "version": "3.6.9"
  }
 },
 "nbformat": 4,
 "nbformat_minor": 2
}
