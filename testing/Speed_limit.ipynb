{
 "cells": [
  {
   "cell_type": "code",
   "execution_count": 4,
   "metadata": {},
   "outputs": [],
   "source": [
    "from datetime import datetime\n",
    "\n",
    "import pandas as pd\n",
    "import numpy as np\n",
    "\n",
    "import codecs, json \n",
    "\n",
    "import matplotlib.pyplot as plt\n",
    "import seaborn as sns\n",
    "sns.set()\n",
    "\n",
    "from sklearn.model_selection import train_test_split\n",
    "\n",
    "from sklearn.metrics import mean_squared_error\n",
    "from sklearn.preprocessing import MinMaxScaler\n",
    "\n",
    "import scipy\n",
    "import time\n",
    "\n",
    "import functions.scipy_interpolation_functions as scipy_int"
   ]
  },
  {
   "cell_type": "code",
   "execution_count": 16,
   "metadata": {},
   "outputs": [],
   "source": [
    "def read_data():    \n",
    "    with open('data/data_rich_ac.bsad') as json_file:\n",
    "        json_data = json.load(json_file)\n",
    "\n",
    "    frames = []\n",
    "    for j in range(len(json_data['tables'])):\n",
    "        df = pd.DataFrame(np.array(json_data['tables'][j]['table'])[:,:], \n",
    "                               columns = json_data['tables'][j]['header']['variables'][:])\n",
    "        df['MODE'] = json_data['tables'][j]['header']['mode']\n",
    "        df['STATE'] = json_data['tables'][j]['header']['flightphase']\n",
    "        if df['STATE'][0] == 'cruise':\n",
    "            frames.append(df)\n",
    "\n",
    "    df = pd.concat(frames,ignore_index=True)\n",
    "    df = df[(df.MODE == 'general')]\n",
    "    df = df[['DISA','ALTITUDE','MASS','MACH','FUELFLOW']]\n",
    "\n",
    "    scaler = MinMaxScaler()\n",
    "    df = scaler.fit_transform(df)\n",
    "\n",
    "    df = pd.DataFrame(df, columns = ['DISA','ALTITUDE','MASS','MACH','FUELFLOW'])\n",
    "\n",
    "    X = df.drop(['FUELFLOW'], axis=1)\n",
    "    y = df.FUELFLOW\n",
    "\n",
    "    X_train, X_test, y_train, y_test = train_test_split(X, y, test_size=0.001)\n",
    "    return X_train, X_test, y_train, y_test"
   ]
  },
  {
   "cell_type": "code",
   "execution_count": 21,
   "metadata": {},
   "outputs": [],
   "source": [
    "X_train, X_test, y_train, y_test = read_data()"
   ]
  },
  {
   "cell_type": "code",
   "execution_count": 25,
   "metadata": {},
   "outputs": [
    {
     "data": {
      "text/plain": [
       "DISA        73286\n",
       "ALTITUDE    73286\n",
       "MASS        73286\n",
       "MACH        73286\n",
       "dtype: int64"
      ]
     },
     "execution_count": 25,
     "metadata": {},
     "output_type": "execute_result"
    }
   ],
   "source": [
    "df = pd.concat([X_train, X_test])\n",
    "df.count()"
   ]
  },
  {
   "cell_type": "code",
   "execution_count": 69,
   "metadata": {
    "scrolled": true
   },
   "outputs": [],
   "source": [
    "group_min = df.groupby(['DISA', 'ALTITUDE', 'MASS']).min()\n",
    "group_max = df.groupby(['DISA', 'ALTITUDE', 'MASS']).max()\n",
    "\n",
    "df_group = pd.DataFrame(index=range(len(group_min)),columns=range(5))\n",
    "\n",
    "for i in range(len(out)):\n",
    "    df_group.iloc[i] = [group_min.index[i][0],\n",
    "                        group_min.index[i][1],\n",
    "                        group_min.index[i][2],\n",
    "                        group_min.iloc[i][0],\n",
    "                        group_max.iloc[i][0]]\n",
    "\n",
    "df_group.columns = ['DISA', 'ALTITUDE', 'MASS', 'MACH_MIN', 'MACH_MAX']"
   ]
  },
  {
   "cell_type": "code",
   "execution_count": 85,
   "metadata": {},
   "outputs": [
    {
     "name": "stdout",
     "output_type": "stream",
     "text": [
      "0.3225806451612904   0.3225806451612904\n",
      "0.8706709677419355   0.8928048387096774\n"
     ]
    }
   ],
   "source": [
    "new_point = df_group[df_group.index == 206]\n",
    "df_group_int = df_group[df_group.index != 206]\n",
    "\n",
    "new_point_X = new_point.drop(['MACH_MIN', 'MACH_MAX'], axis=1)\n",
    "new_point_y_min = new_point['MACH_MIN']\n",
    "new_point_y_max = new_point['MACH_MAX'] \n",
    "\n",
    "df_group_int_X = df_group_int.drop(['MACH_MIN', 'MACH_MAX'], axis=1)\n",
    "df_group_int_y_min = df_group_int['MACH_MIN']\n",
    "df_group_int_y_max = df_group_int['MACH_MAX']\n",
    "\n",
    "interpolated_val_min = scipy.interpolate.griddata(df_group_int_X, df_group_int_y_min, new_point_X, method='nearest')\n",
    "interpolated_val_max = scipy.interpolate.griddata(df_group_int_X, df_group_int_y_max, new_point_X, method='nearest')\n",
    "\n",
    "print(interpolated_val_min.iloc[0], ' ', new_point_y_min.iloc[0])\n",
    "print(interpolated_val_max.iloc[0], ' ', new_point_y_max.iloc[0])\n"
   ]
  },
  {
   "cell_type": "code",
   "execution_count": null,
   "metadata": {},
   "outputs": [],
   "source": []
  }
 ],
 "metadata": {
  "kernelspec": {
   "display_name": "Python 3",
   "language": "python",
   "name": "python3"
  },
  "language_info": {
   "codemirror_mode": {
    "name": "ipython",
    "version": 3
   },
   "file_extension": ".py",
   "mimetype": "text/x-python",
   "name": "python",
   "nbconvert_exporter": "python",
   "pygments_lexer": "ipython3",
   "version": "3.7.4"
  }
 },
 "nbformat": 4,
 "nbformat_minor": 2
}
