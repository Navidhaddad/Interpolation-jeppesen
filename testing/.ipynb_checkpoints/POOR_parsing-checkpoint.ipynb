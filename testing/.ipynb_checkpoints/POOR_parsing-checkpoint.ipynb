{
 "cells": [
  {
   "cell_type": "code",
   "execution_count": 75,
   "metadata": {},
   "outputs": [],
   "source": [
    "import pandas as pd\n",
    "import numpy as np\n",
    "\n",
    "import codecs, json"
   ]
  },
  {
   "cell_type": "code",
   "execution_count": null,
   "metadata": {},
   "outputs": [],
   "source": [
    "##################### SINGLE FILE #######################"
   ]
  },
  {
   "cell_type": "code",
   "execution_count": 68,
   "metadata": {},
   "outputs": [],
   "source": [
    "with open('/Users/calmaleh/Desktop/school/project_course/jeppesen/ac_poor_4.bsad') as json_file:\n",
    "    json_data = json.load(json_file)\n",
    "\n",
    "frames = []\n",
    "for j in range(len(json_data['tables'])):\n",
    "    df = pd.DataFrame(np.array(json_data['tables'][j]['table'])[:,:], \n",
    "                           columns = json_data['tables'][j]['header']['variables'])\n",
    "    df['MODE'] = json_data['tables'][j]['header']['mode']\n",
    "    df['STATE'] = json_data['tables'][j]['header']['flightphase']\n",
    "    if df['STATE'][0] == 'cruise':\n",
    "        frames.append(df)\n",
    "    \n",
    "df = pd.concat(frames,ignore_index=True)\n",
    "df = df[['DISA','ALTITUDE','MASS','MODE','FUELFLOW']]\n",
    "df = df[(df.MODE != 'Long Range Cruise') & (df.MODE != 'Max Cruise Thrust')]"
   ]
  },
  {
   "cell_type": "code",
   "execution_count": null,
   "metadata": {},
   "outputs": [],
   "source": [
    "##################### ALL FILES #######################"
   ]
  },
  {
   "cell_type": "code",
   "execution_count": 89,
   "metadata": {},
   "outputs": [
    {
     "name": "stdout",
     "output_type": "stream",
     "text": [
      "300 KIAS/M0.80\n",
      "1 Engine EROPS\n",
      "2LRC OXY EROPS\n",
      "Mach 0.80\n",
      "Mach 0.83\n",
      "Mach 0.86\n",
      "Max Cruise Thrust\n",
      "Max Range Cruise\n",
      "\n",
      "\n",
      "250/300 KIAS/M0.78\n",
      "1LRC EROPS OXY ICE\n",
      "250 KIAS/M0.77\n",
      "2LRC EROPS OXY ICE\n",
      "300 KIAS/M0.80\n",
      "300 KIAS/M0.82\n",
      "Long Range Cruise\n",
      "M0.78/300/250 KIAS\n",
      "\n",
      "\n",
      "Normal Climb\n",
      "1MCT EROPS ICE\n",
      "2LRC EROPS OXY ICE\n",
      "Long Range Cruise\n",
      "Mach 0.75\n",
      "Mach 0.80\n",
      "Mach 0.84\n",
      "Max Cruise Thrust\n",
      "\n",
      "\n",
      "300 KIAS/M0.80\n",
      "2MCT EROPS\n",
      "3LRC OXY EROPS\n",
      "Long Range Cruise\n",
      "Mach 0.75\n",
      "Mach 0.80\n",
      "Max Cruise Thrust\n",
      "M0.80/300 KIAS\n",
      "\n",
      "\n",
      "250/300/M0.87\n",
      "1 LRC EROPS\n",
      "2 LRC OXY EROPS\n",
      "Long Range Cruise\n",
      "Mach 0.85\n",
      "Mach 0.86\n",
      "Mach 0.87\n",
      "Mach 0.88\n",
      "\n",
      "\n",
      "280 KIAS/M0.76\n",
      "1ENG EROPS LRC\n",
      "2ENG EROPS OXY LRC\n",
      "Mach 0.76\n",
      "Mach 0.78\n",
      "Mach 0.80\n",
      "Mach 0.82\n",
      "300 KIAS/M0.82\n",
      "\n",
      "\n",
      "250 KIAS/M0.70\n",
      "1ENG EROPS M0.45\n",
      "2ENG EROPS OXY\n",
      "Long Range Cruise M0.76\n",
      "Mach 0.78\n",
      "Mach 0.80\n",
      "Max Continuous Thrust Cruise\n",
      "Max Range Cruise M0.74\n",
      "\n",
      "\n"
     ]
    }
   ],
   "source": [
    "## Print out every mode for each data file\n",
    "for i in range(7):\n",
    "    with open('/Users/calmaleh/Desktop/school/project_course/jeppesen/ac_poor_' + str(i+1) +'.bsad') as json_file:\n",
    "        json_data = json.load(json_file)\n",
    "        for i in range(8):\n",
    "            print(json_data['tables'][i]['header']['mode'])\n",
    "    print('\\n')"
   ]
  },
  {
   "cell_type": "code",
   "execution_count": 73,
   "metadata": {},
   "outputs": [],
   "source": [
    "df = pd.DataFrame([])\n",
    "for i in range(7):\n",
    "    with open('/Users/calmaleh/Desktop/school/project_course/jeppesen/ac_poor_' + str(i+1) +'.bsad') as json_file:\n",
    "        json_data = json.load(json_file)\n",
    "      \n",
    "    frames = []\n",
    "    for j in range(len(json_data['tables'])):\n",
    "        temp_df = pd.DataFrame(np.array(json_data['tables'][j]['table'])[:,:], \n",
    "                               columns = json_data['tables'][j]['header']['variables'])\n",
    "        temp_df['MODE'] = json_data['tables'][j]['header']['mode']\n",
    "        temp_df['STATE'] = json_data['tables'][j]['header']['flightphase']\n",
    "        if temp_df['STATE'][0] == 'cruise':\n",
    "            frames.append(temp_df)\n",
    "\n",
    "    temp_df = pd.concat(frames,ignore_index=True)\n",
    "    temp_df = temp_df[['DISA','ALTITUDE','MASS','MODE','FUELFLOW']]\n",
    "    temp_df = temp_df[(temp_df.MODE != 'Long Range Cruise') & (temp_df.MODE != 'Max Cruise Thrust')]\n",
    "    \n",
    "    df = pd.concat([df,temp_df])"
   ]
  },
  {
   "cell_type": "code",
   "execution_count": 78,
   "metadata": {},
   "outputs": [
    {
     "name": "stdout",
     "output_type": "stream",
     "text": [
      "0\n",
      "1\n",
      "2\n",
      "3\n",
      "4\n",
      "0\n",
      "1\n",
      "2\n",
      "3\n",
      "4\n",
      "0\n",
      "1\n",
      "2\n",
      "3\n",
      "4\n",
      "0\n",
      "1\n",
      "2\n",
      "3\n",
      "4\n",
      "0\n",
      "1\n",
      "2\n",
      "3\n",
      "4\n",
      "0\n",
      "1\n",
      "2\n",
      "3\n",
      "4\n",
      "0\n",
      "1\n",
      "2\n",
      "3\n",
      "4\n"
     ]
    }
   ],
   "source": [
    "for i in range(7):\n",
    "    with open('/Users/calmaleh/Desktop/school/project_course/jeppesen/ac_poor_' + str(i+1) +'.bsad') as json_file:\n",
    "        json_data = json.load(json_file)\n",
    "    \n"
   ]
  },
  {
   "cell_type": "code",
   "execution_count": null,
   "metadata": {},
   "outputs": [],
   "source": []
  }
 ],
 "metadata": {
  "kernelspec": {
   "display_name": "Python 3",
   "language": "python",
   "name": "python3"
  },
  "language_info": {
   "codemirror_mode": {
    "name": "ipython",
    "version": 3
   },
   "file_extension": ".py",
   "mimetype": "text/x-python",
   "name": "python",
   "nbconvert_exporter": "python",
   "pygments_lexer": "ipython3",
   "version": "3.7.4"
  }
 },
 "nbformat": 4,
 "nbformat_minor": 2
}
