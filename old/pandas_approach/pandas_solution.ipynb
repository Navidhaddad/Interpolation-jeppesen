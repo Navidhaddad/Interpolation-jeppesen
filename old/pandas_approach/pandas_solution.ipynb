{
 "cells": [
  {
   "cell_type": "code",
   "execution_count": 10,
   "metadata": {},
   "outputs": [],
   "source": [
    "from datetime import datetime\n",
    "\n",
    "import pandas as pd\n",
    "import numpy as np\n",
    "\n",
    "import codecs, json \n",
    "\n",
    "import matplotlib.pyplot as plt\n",
    "import seaborn as sns\n",
    "sns.set()\n",
    "\n",
    "from sklearn.model_selection import train_test_split\n",
    "\n",
    "import xgboost as xgb\n",
    "\n",
    "from sklearn.metrics import mean_squared_error\n",
    "\n",
    "import scipy"
   ]
  },
  {
   "cell_type": "code",
   "execution_count": 2,
   "metadata": {},
   "outputs": [],
   "source": [
    "######################### METHODS ###################################"
   ]
  },
  {
   "cell_type": "code",
   "execution_count": 2,
   "metadata": {},
   "outputs": [],
   "source": [
    "def parse_data(filename):\n",
    "    with open(filename) as json_file:\n",
    "        json_data = json.load(json_file)\n",
    "    \n",
    "    frames = []\n",
    "    for j in range(len(json_data['tables'])):\n",
    "        df = pd.DataFrame(np.array(json_data['tables'][j]['table'])[:,:], \n",
    "                           columns = json_data['tables'][j]['header']['variables'][:])\n",
    "        df['state'] = json_data['tables'][j]['header']['flightphase']\n",
    "        if df['state'][0] == 'cruise':\n",
    "            frames.append(df)\n",
    "    \n",
    "    df = pd.concat(frames,ignore_index=True)\n",
    "    return df"
   ]
  },
  {
   "cell_type": "code",
   "execution_count": 4,
   "metadata": {},
   "outputs": [],
   "source": [
    "def getInterpolation(temp, alt, mass, speed, objective, filename):\n",
    "    df = parse_data(filename)\n",
    "    df = df[['DISA','ALTITUDE','MASS','MACH', objective]]\n",
    "    \n",
    "    test = pd.concat([temp, alt, mass, speed, objective])\n",
    "    df.append(test) # where to place points? or does not matter... (see previous tests)\n",
    "    \n",
    "    return ((df.interpolate()).iloc[test.index.values])[objective]\n",
    "    "
   ]
  },
  {
   "cell_type": "code",
   "execution_count": 5,
   "metadata": {},
   "outputs": [],
   "source": [
    "####################################################################"
   ]
  },
  {
   "cell_type": "code",
   "execution_count": 3,
   "metadata": {},
   "outputs": [],
   "source": [
    "with open('/Users/calmaleh/Desktop/school/project_course/jeppesen/data_rich_ac.bsad') as json_file:\n",
    "    json_data = json.load(json_file)"
   ]
  },
  {
   "cell_type": "code",
   "execution_count": 4,
   "metadata": {},
   "outputs": [],
   "source": [
    "# json_data is a disc \n",
    "# The tables is a list and header is dict\n",
    "# The tables list contains dict -> This dict contains the data\n",
    "#json_data['tables'][1]['table']\n"
   ]
  },
  {
   "cell_type": "code",
   "execution_count": 5,
   "metadata": {},
   "outputs": [],
   "source": [
    "\n",
    "frames = []\n",
    "for j in range(len(json_data['tables'])):\n",
    "    df = pd.DataFrame(np.array(json_data['tables'][j]['table'])[:,:], \n",
    "                           columns = json_data['tables'][j]['header']['variables'][:])\n",
    "    df['state'] = json_data['tables'][j]['header']['flightphase']\n",
    "    if df['state'][0] == 'cruise':\n",
    "        frames.append(df)\n",
    "    \n",
    "df = pd.concat(frames,ignore_index=True)\n",
    "df = df[['DISA','ALTITUDE','MASS','MACH','FUELFLOW']]"
   ]
  },
  {
   "cell_type": "code",
   "execution_count": 6,
   "metadata": {},
   "outputs": [],
   "source": [
    "X = df.drop(['FUELFLOW'], axis=1)\n",
    "y = df.FUELFLOW\n",
    "\n",
    "X_train, X_test, y_train, y_test = train_test_split(X, y, test_size=0.2)\n",
    "\n",
    "#X_train.insert(4, 'FUELFLOW', y_train, False)\n",
    "#X = X_train.append(X_test)\n",
    "#X = X.sort_index(axis=0)\n",
    "test = X_test.iloc[0]\n",
    "y_check = y_test.iloc[0]\n"
   ]
  },
  {
   "cell_type": "code",
   "execution_count": 7,
   "metadata": {},
   "outputs": [
    {
     "name": "stderr",
     "output_type": "stream",
     "text": [
      "/anaconda3/envs/py36/lib/python3.6/site-packages/ipykernel_launcher.py:1: SettingWithCopyWarning: \n",
      "A value is trying to be set on a copy of a slice from a DataFrame.\n",
      "Try using .loc[row_indexer,col_indexer] = value instead\n",
      "\n",
      "See the caveats in the documentation: http://pandas.pydata.org/pandas-docs/stable/user_guide/indexing.html#returning-a-view-versus-a-copy\n",
      "  \"\"\"Entry point for launching an IPython kernel.\n"
     ]
    }
   ],
   "source": [
    "X_train['distance'] = X_train.sub(test).pow(2).sum(1).pow(0.5) # maybe cutoff based on input\n",
    "\n",
    "end = 16\n",
    "z = X_train.sort_values('distance').iloc[0:end]\n",
    "z = z.drop(['distance'],axis = 1)\n",
    "z = z.reset_index()\n",
    "z.columns = ['index_', 'DISA', 'ALTITUDE', 'MASS', 'MACH']\n",
    "y_train.columns = ['index_', 'FUELFLOW']\n",
    "z = z.join(y_train, on = 'index_', how = 'left')\n",
    "z = z.drop(['index_'], axis=1)"
   ]
  },
  {
   "cell_type": "code",
   "execution_count": 8,
   "metadata": {},
   "outputs": [
    {
     "name": "stdout",
     "output_type": "stream",
     "text": [
      "0        0.383028\n",
      "44933    0.385122\n",
      "2        0.387215\n",
      "3        0.390016\n",
      "4        0.393398\n",
      "5        0.400192\n",
      "6        0.409123\n",
      "7        0.436958\n",
      "8        0.454090\n",
      "9        0.457943\n",
      "10       0.472972\n",
      "11       0.513770\n",
      "12       0.543467\n",
      "13       0.543467\n",
      "14       0.543467\n",
      "15       0.543467\n",
      "Name: FUELFLOW, dtype: float64\n",
      "0.3851215\n",
      "0.379251\n",
      "0.005870500000000001\n"
     ]
    }
   ],
   "source": [
    "z_inter = z[0:1].append(test)\n",
    "z_inter = z_inter.append(z[2:end])\n",
    "z_inter\n",
    "\n",
    "y_inter = z_inter.interpolate(method = 'linear')['FUELFLOW']\n",
    "print(y_inter)\n",
    "print(y_inter.iloc[1])\n",
    "print(y_check)\n",
    "print(y_inter.iloc[1] - y_check)"
   ]
  },
  {
   "cell_type": "code",
   "execution_count": null,
   "metadata": {},
   "outputs": [],
   "source": [
    "################### PANDAS METHOD ######################\n",
    "# note: steps that involve the training/testing splits will have to be removed/modified in final version"
   ]
  },
  {
   "cell_type": "code",
   "execution_count": null,
   "metadata": {},
   "outputs": [],
   "source": []
  },
  {
   "cell_type": "code",
   "execution_count": 9,
   "metadata": {},
   "outputs": [],
   "source": [
    "def pandas_interpol(temp, alt, mass, speed, objective):\n",
    "    point = pandas.Dataframe(data = {'DISA': [temp], 'ALTITUDE': [alt], 'MASS': [mass], 'MACH': [speed],\n",
    "                                    objective: None})\n",
    "    \n",
    "    def sort_after_distances(dataset, point):\n",
    "        dataset['distance'] = distance.sub(point).pow(2).sum(1).pow(0.5)    \n",
    "        dist_sorted_dataset = dataset.sort_values('distance')     \n",
    "        return dataset\n",
    "    \n",
    "    nbr_neighbours = 16 # number of closest neighbours\n",
    "    df = sort_after_distances(X_train, point) # sort indices based on euclidean distance from point in question\n",
    "    df = df[0:nbr_neighbours] # discard all but the closest points given by nbr_neighbours\n",
    "    df = df.drop(['distance'],axis = 1) # drop distance vector\n",
    "    df = df.reset_index()\n",
    "    df.columns = ['index_', 'DISA', 'ALTITUDE', 'MASS', 'MACH']\n",
    "    y_train.columns = ['index_', objective]\n",
    "    df = df.join(y_train, on = 'index_', how = 'left') # add objective column\n",
    "    df = df.drop(['index_'], axis=1)\n",
    "\n",
    "    # add input point between closest and second closest neighbours in dataframe\n",
    "    df_interp = df[0:1].append(test)\n",
    "    df_interp = df_interp.append(df[2:end])\n",
    "    \n",
    "    # perform pandas' linear interpolation\n",
    "    y_interp = df_interp.interpolate(method = 'linear')[objective]\n",
    "    interpolated_objective = y_interp.iloc[1]\n",
    "    \n",
    "    return interpolated_objective"
   ]
  },
  {
   "cell_type": "code",
   "execution_count": null,
   "metadata": {},
   "outputs": [],
   "source": []
  }
 ],
 "metadata": {
  "kernelspec": {
   "display_name": "Python 3",
   "language": "python",
   "name": "python3"
  },
  "language_info": {
   "codemirror_mode": {
    "name": "ipython",
    "version": 3
   },
   "file_extension": ".py",
   "mimetype": "text/x-python",
   "name": "python",
   "nbconvert_exporter": "python",
   "pygments_lexer": "ipython3",
   "version": "3.6.9"
  }
 },
 "nbformat": 4,
 "nbformat_minor": 2
}
