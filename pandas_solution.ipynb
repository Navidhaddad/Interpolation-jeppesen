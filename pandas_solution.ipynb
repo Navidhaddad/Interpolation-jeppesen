{
 "cells": [
  {
   "cell_type": "code",
   "execution_count": 1,
   "metadata": {},
   "outputs": [],
   "source": [
    "from datetime import datetime\n",
    "\n",
    "import pandas as pd\n",
    "import numpy as np\n",
    "\n",
    "import codecs, json \n",
    "\n",
    "import matplotlib.pyplot as plt\n",
    "import seaborn as sns\n",
    "sns.set()\n",
    "\n",
    "from sklearn.model_selection import train_test_split\n",
    "\n",
    "import xgboost as xgb\n",
    "\n",
    "from sklearn.metrics import mean_squared_error\n",
    "\n",
    "import scipy"
   ]
  },
  {
   "cell_type": "code",
   "execution_count": 2,
   "metadata": {},
   "outputs": [],
   "source": [
    "######################### METHODS ###################################"
   ]
  },
  {
   "cell_type": "code",
   "execution_count": 3,
   "metadata": {},
   "outputs": [],
   "source": [
    "def parse_data(filename):\n",
    "    with open(filename) as json_file:\n",
    "        json_data = json.load(json_file)\n",
    "    \n",
    "    frames = []\n",
    "    for j in range(len(json_data['tables'])):\n",
    "        df = pd.DataFrame(np.array(json_data['tables'][j]['table'])[:,:], \n",
    "                           columns = json_data['tables'][j]['header']['variables'][:])\n",
    "        df['state'] = json_data['tables'][j]['header']['flightphase']\n",
    "        if df['state'][0] == 'cruise':\n",
    "            frames.append(df)\n",
    "    \n",
    "    df = pd.concat(frames,ignore_index=True)\n",
    "    return df"
   ]
  },
  {
   "cell_type": "code",
   "execution_count": 4,
   "metadata": {},
   "outputs": [],
   "source": [
    "def getInterpolation(temp, alt, mass, speed, objective, filename):\n",
    "    df = parse_data(filename)\n",
    "    df = df[['DISA','ALTITUDE','MASS','MACH', objective]]\n",
    "    \n",
    "    test = pd.concat([temp, alt, mass, speed, objective])\n",
    "    df.append(test) # where to place points? or does not matter... (see previous tests)\n",
    "    \n",
    "    return ((df.interpolate()).iloc[test.index.values])[objective]\n",
    "    "
   ]
  },
  {
   "cell_type": "code",
   "execution_count": 5,
   "metadata": {},
   "outputs": [],
   "source": [
    "####################################################################"
   ]
  },
  {
   "cell_type": "code",
   "execution_count": 6,
   "metadata": {},
   "outputs": [],
   "source": [
    "with open('/Users/calmaleh/Desktop/school/project_course/jeppesen/data_rich_ac.bsad') as json_file:\n",
    "    json_data = json.load(json_file)"
   ]
  },
  {
   "cell_type": "code",
   "execution_count": 7,
   "metadata": {},
   "outputs": [],
   "source": [
    "# json_data is a disc \n",
    "# The tables is a list and header is dict\n",
    "# The tables list contains dict -> This dict contains the data\n",
    "#json_data['tables'][1]['table']\n"
   ]
  },
  {
   "cell_type": "code",
   "execution_count": 8,
   "metadata": {},
   "outputs": [],
   "source": [
    "frames = []\n",
    "for j in range(len(json_data['tables'])):\n",
    "    df = pd.DataFrame(np.array(json_data['tables'][j]['table'])[:,:], \n",
    "                           columns = json_data['tables'][j]['header']['variables'][:])\n",
    "    df['state'] = json_data['tables'][j]['header']['flightphase']\n",
    "    if df['state'][0] == 'cruise':\n",
    "        frames.append(df)\n",
    "    \n",
    "df = pd.concat(frames,ignore_index=True)\n",
    "df = df[['DISA','ALTITUDE','MASS','MACH','FUELFLOW']]"
   ]
  },
  {
   "cell_type": "code",
   "execution_count": 9,
   "metadata": {},
   "outputs": [],
   "source": [
    "X = df.drop(['FUELFLOW'], axis=1)\n",
    "y = df.FUELFLOW\n",
    "\n",
    "X_train, X_test, y_train, y_test = train_test_split(X, y, test_size=0.2)\n",
    "\n",
    "#X_train.insert(4, 'FUELFLOW', y_train, False)\n",
    "#X = X_train.append(X_test)\n",
    "#X = X.sort_index(axis=0)\n",
    "test = X_test.iloc[0]\n",
    "y_check = y_test.iloc[0]\n"
   ]
  },
  {
   "cell_type": "code",
   "execution_count": 12,
   "metadata": {},
   "outputs": [
    {
     "name": "stderr",
     "output_type": "stream",
     "text": [
      "/anaconda3/envs/py36/lib/python3.6/site-packages/ipykernel_launcher.py:1: SettingWithCopyWarning: \n",
      "A value is trying to be set on a copy of a slice from a DataFrame.\n",
      "Try using .loc[row_indexer,col_indexer] = value instead\n",
      "\n",
      "See the caveats in the documentation: http://pandas.pydata.org/pandas-docs/stable/user_guide/indexing.html#returning-a-view-versus-a-copy\n",
      "  \"\"\"Entry point for launching an IPython kernel.\n"
     ]
    }
   ],
   "source": [
    "X_train['distance'] = X_train.sub(test).pow(2).sum(1).pow(0.5) # maybe cutoff based on input\n",
    "\n",
    "end = 16\n",
    "z = X_train.sort_values('distance').iloc[0:end]\n",
    "z = z.drop(['distance'],axis = 1)\n",
    "z = z.reset_index()\n",
    "z.columns = ['index_', 'DISA', 'ALTITUDE', 'MASS', 'MACH']\n",
    "y_train.columns = ['index_', 'FUELFLOW']\n",
    "z = z.join(y_train, on = 'index_', how = 'left')\n",
    "z = z.drop(['index_'], axis=1)"
   ]
  },
  {
   "cell_type": "code",
   "execution_count": 13,
   "metadata": {},
   "outputs": [
    {
     "name": "stdout",
     "output_type": "stream",
     "text": [
      "0        0.283928\n",
      "47531    0.285261\n",
      "2        0.286594\n",
      "3        0.285656\n",
      "4        0.289725\n",
      "5        0.289551\n",
      "6        0.294335\n",
      "7        0.301664\n",
      "8        0.310127\n",
      "9        0.319450\n",
      "10       0.328512\n",
      "11       0.329731\n",
      "12       0.354206\n",
      "13       0.367730\n",
      "14       0.383009\n",
      "15       0.432363\n",
      "Name: FUELFLOW, dtype: float64\n",
      "0.285261\n",
      "0.282941\n",
      "0.0023199999999999887\n"
     ]
    }
   ],
   "source": [
    "z_inter = z[0:1].append(test)\n",
    "z_inter = z_inter.append(z[2:end])\n",
    "z_inter\n",
    "\n",
    "y_inter = z_inter.interpolate(method = 'linear')['FUELFLOW']\n",
    "print(y_inter)\n",
    "print(y_inter.iloc[1])\n",
    "print(y_check)\n",
    "print(y_inter.iloc[1] - y_check)"
   ]
  },
  {
   "cell_type": "code",
   "execution_count": null,
   "metadata": {},
   "outputs": [],
   "source": [
    "################### PANDAS METHOD ######################\n",
    "# note: steps that involve the training/testing splits will have to be removed/modified in final version"
   ]
  },
  {
   "cell_type": "code",
   "execution_count": 14,
   "metadata": {},
   "outputs": [],
   "source": [
    "def pandas_interpol(temp, alt, mass, speed, objective):\n",
    "    point = pandas.Dataframe(data = {'DISA': [temp], 'ALTITUDE': [alt], 'MASS': [mass], 'MACH': [speed],\n",
    "                                    objective: None})\n",
    "    \n",
    "    def sort_after_distances(dataset):\n",
    "        dataset['distance'] = distance.\n",
    "    \n",
    "        X_train['distance'] = X_train.sub(test).pow(2).sum(1).pow(0.5)\n",
    "\n",
    "        end = 16\n",
    "        z = X_train.sort_values('distance').iloc[0:end]\n",
    "        z = z.drop(['distance'],axis = 1)\n",
    "        z = z.reset_index()\n",
    "        z.columns = ['index_', 'DISA', 'ALTITUDE', 'MASS', 'MACH']\n",
    "        y_train.columns = ['index_', 'FUELFLOW']\n",
    "        z = z.join(y_train, on = 'index_', how = 'left')\n",
    "        z = z.drop(['index_'], axis=1)\n",
    "\n",
    "        z_inter = z[0:1].append(test)\n",
    "        z_inter = z_inter.append(z[2:end])\n",
    "        z_inter\n",
    "\n",
    "    return y_inter.iloc[1]"
   ]
  },
  {
   "cell_type": "code",
   "execution_count": 15,
   "metadata": {},
   "outputs": [
    {
     "ename": "NameError",
     "evalue": "name 't' is not defined",
     "output_type": "error",
     "traceback": [
      "\u001b[0;31m---------------------------------------------------------------------------\u001b[0m",
      "\u001b[0;31mNameError\u001b[0m                                 Traceback (most recent call last)",
      "\u001b[0;32m<ipython-input-15-9fdc6612ae97>\u001b[0m in \u001b[0;36m<module>\u001b[0;34m\u001b[0m\n\u001b[0;32m----> 1\u001b[0;31m \u001b[0mt\u001b[0m\u001b[0;34m.\u001b[0m\u001b[0mcolumns\u001b[0m \u001b[0;34m=\u001b[0m \u001b[0;34m[\u001b[0m\u001b[0;34m'index_'\u001b[0m\u001b[0;34m,\u001b[0m \u001b[0;34m'DISA'\u001b[0m\u001b[0;34m,\u001b[0m \u001b[0;34m'ALTITUDE'\u001b[0m\u001b[0;34m,\u001b[0m \u001b[0;34m'MASS'\u001b[0m\u001b[0;34m,\u001b[0m \u001b[0;34m'MACH'\u001b[0m\u001b[0;34m]\u001b[0m\u001b[0;34m\u001b[0m\u001b[0;34m\u001b[0m\u001b[0m\n\u001b[0m",
      "\u001b[0;31mNameError\u001b[0m: name 't' is not defined"
     ]
    }
   ],
   "source": [
    "t.columns = {'col1': [1, 2], 'col2': [3, 4]}"
   ]
  },
  {
   "cell_type": "code",
   "execution_count": 23,
   "metadata": {},
   "outputs": [],
   "source": [
    "point = pd.DataFrame(data = {'DISA': [1], 'ALTITUDE': [1], 'MASS': [1], 'MACH': [1],\n",
    "                                    'objective': None})"
   ]
  },
  {
   "cell_type": "code",
   "execution_count": null,
   "metadata": {},
   "outputs": [],
   "source": []
  }
 ],
 "metadata": {
  "kernelspec": {
   "display_name": "Python 3",
   "language": "python",
   "name": "python3"
  },
  "language_info": {
   "codemirror_mode": {
    "name": "ipython",
    "version": 3
   },
   "file_extension": ".py",
   "mimetype": "text/x-python",
   "name": "python",
   "nbconvert_exporter": "python",
   "pygments_lexer": "ipython3",
   "version": "3.6.9"
  }
 },
 "nbformat": 4,
 "nbformat_minor": 2
}
