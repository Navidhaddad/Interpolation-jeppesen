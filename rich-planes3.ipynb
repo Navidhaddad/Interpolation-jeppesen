{
 "cells": [
  {
   "cell_type": "code",
   "execution_count": 1,
   "metadata": {},
   "outputs": [],
   "source": [
    "from datetime import datetime\n",
    "\n",
    "import pandas as pd\n",
    "import numpy as np\n",
    "\n",
    "import codecs, json \n",
    "\n",
    "import matplotlib.pyplot as plt\n",
    "import seaborn as sns\n",
    "sns.set()\n",
    "\n",
    "from sklearn.model_selection import train_test_split\n",
    "\n",
    "import xgboost as xgb\n",
    "\n",
    "from sklearn.metrics import mean_squared_error\n",
    "\n",
    "import scipy"
   ]
  },
  {
   "cell_type": "code",
   "execution_count": 2,
   "metadata": {},
   "outputs": [],
   "source": [
    "######################### METHODS ###################################"
   ]
  },
  {
   "cell_type": "code",
   "execution_count": 3,
   "metadata": {},
   "outputs": [],
   "source": [
    "def parse_data(filename):\n",
    "    with open(filename) as json_file:\n",
    "        json_data = json.load(json_file)\n",
    "    \n",
    "    frames = []\n",
    "    for j in range(len(json_data['tables'])):\n",
    "        df = pd.DataFrame(np.array(json_data['tables'][j]['table'])[:,:], \n",
    "                           columns = json_data['tables'][j]['header']['variables'][:])\n",
    "        df['state'] = json_data['tables'][j]['header']['flightphase']\n",
    "        if df['state'][0] == 'cruise':\n",
    "            frames.append(df)\n",
    "    \n",
    "    df = pd.concat(frames,ignore_index=True)\n",
    "    return df"
   ]
  },
  {
   "cell_type": "code",
   "execution_count": 4,
   "metadata": {},
   "outputs": [],
   "source": [
    "def getInterpolation(temp, alt, mass, speed, objective, filename):\n",
    "    df = parse_data(filename)\n",
    "    df = df[['DISA','ALTITUDE','MASS','MACH', objective]]\n",
    "    \n",
    "    test = pd.concat([temp, alt, mass, speed, objective])\n",
    "    df.append(test) # where to place points? or does not matter... (see previous tests)\n",
    "    \n",
    "    return ((df.interpolate()).iloc[test.index.values])[objective]\n",
    "    "
   ]
  },
  {
   "cell_type": "code",
   "execution_count": 5,
   "metadata": {},
   "outputs": [],
   "source": [
    "####################################################################"
   ]
  },
  {
   "cell_type": "code",
   "execution_count": 6,
   "metadata": {},
   "outputs": [],
   "source": [
    "with open('data_rich_ac.bsad') as json_file:\n",
    "    json_data = json.load(json_file)"
   ]
  },
  {
   "cell_type": "code",
   "execution_count": 7,
   "metadata": {},
   "outputs": [],
   "source": [
    "# json_data is a disc \n",
    "# The tables is a list and header is dict\n",
    "# The tables list contains dict -> This dict contains the data\n",
    "#json_data['tables'][1]['table']\n"
   ]
  },
  {
   "cell_type": "code",
   "execution_count": 213,
   "metadata": {},
   "outputs": [],
   "source": [
    "frames = []\n",
    "for j in range(len(json_data['tables'])):\n",
    "    df = pd.DataFrame(np.array(json_data['tables'][j]['table'])[:,:], \n",
    "                           columns = json_data['tables'][j]['header']['variables'][:])\n",
    "    df['state'] = json_data['tables'][j]['header']['flightphase']\n",
    "    if df['state'][0] == 'cruise':\n",
    "        frames.append(df)\n",
    "    \n",
    "df = pd.concat(frames,ignore_index=True)\n",
    "df = df[['DISA','ALTITUDE','MASS','MACH','FUELFLOW']]"
   ]
  },
  {
   "cell_type": "code",
   "execution_count": 279,
   "metadata": {},
   "outputs": [],
   "source": [
    "X = df.drop(['FUELFLOW'], axis=1)\n",
    "y = df.FUELFLOW\n",
    "\n",
    "X_train, X_test, y_train, y_test = train_test_split(X, y, test_size=0.2)\n",
    "\n",
    "#X_train.insert(4, 'FUELFLOW', y_train, False)\n",
    "#X = X_train.append(X_test)\n",
    "#X = X.sort_index(axis=0)\n",
    "test = X_test.iloc[0]\n",
    "y_check = y_test.iloc[0]\n"
   ]
  },
  {
   "cell_type": "code",
   "execution_count": 280,
   "metadata": {},
   "outputs": [
    {
     "name": "stderr",
     "output_type": "stream",
     "text": [
      "/anaconda3/envs/py36/lib/python3.6/site-packages/ipykernel_launcher.py:1: SettingWithCopyWarning: \n",
      "A value is trying to be set on a copy of a slice from a DataFrame.\n",
      "Try using .loc[row_indexer,col_indexer] = value instead\n",
      "\n",
      "See the caveats in the documentation: http://pandas.pydata.org/pandas-docs/stable/user_guide/indexing.html#returning-a-view-versus-a-copy\n",
      "  \"\"\"Entry point for launching an IPython kernel.\n"
     ]
    }
   ],
   "source": [
    "X_train['distance'] = X_train.sub(test).pow(2).sum(1).pow(0.5) # maybe cutoff based on input\n",
    "z = X_train.sort_values('distance').iloc[0:4]\n",
    "z = z.drop(['distance'],axis = 1)\n",
    "z = z.reset_index()\n",
    "z.columns = ['index_', 'DISA', 'ALTITUDE', 'MASS', 'MACH']\n",
    "y_train.columns = ['index_', 'FUELFLOW']\n",
    "z = z.join(y_train, on = 'index_', how = 'left')\n",
    "#z = z.drop(['index_'], axis=1)"
   ]
  },
  {
   "cell_type": "code",
   "execution_count": 281,
   "metadata": {},
   "outputs": [
    {
     "data": {
      "text/html": [
       "<div>\n",
       "<style scoped>\n",
       "    .dataframe tbody tr th:only-of-type {\n",
       "        vertical-align: middle;\n",
       "    }\n",
       "\n",
       "    .dataframe tbody tr th {\n",
       "        vertical-align: top;\n",
       "    }\n",
       "\n",
       "    .dataframe thead th {\n",
       "        text-align: right;\n",
       "    }\n",
       "</style>\n",
       "<table border=\"1\" class=\"dataframe\">\n",
       "  <thead>\n",
       "    <tr style=\"text-align: right;\">\n",
       "      <th></th>\n",
       "      <th>index_</th>\n",
       "      <th>DISA</th>\n",
       "      <th>ALTITUDE</th>\n",
       "      <th>MASS</th>\n",
       "      <th>MACH</th>\n",
       "      <th>FUELFLOW</th>\n",
       "    </tr>\n",
       "  </thead>\n",
       "  <tbody>\n",
       "    <tr>\n",
       "      <td>0</td>\n",
       "      <td>29069</td>\n",
       "      <td>-20.0</td>\n",
       "      <td>0.0</td>\n",
       "      <td>64000.0</td>\n",
       "      <td>0.30</td>\n",
       "      <td>0.274195</td>\n",
       "    </tr>\n",
       "    <tr>\n",
       "      <td>1</td>\n",
       "      <td>30138</td>\n",
       "      <td>-20.0</td>\n",
       "      <td>0.0</td>\n",
       "      <td>64000.0</td>\n",
       "      <td>0.32</td>\n",
       "      <td>0.277547</td>\n",
       "    </tr>\n",
       "    <tr>\n",
       "      <td>2</td>\n",
       "      <td>27130</td>\n",
       "      <td>-20.0</td>\n",
       "      <td>0.0</td>\n",
       "      <td>64000.0</td>\n",
       "      <td>0.24</td>\n",
       "      <td>0.296419</td>\n",
       "    </tr>\n",
       "    <tr>\n",
       "      <td>3</td>\n",
       "      <td>31341</td>\n",
       "      <td>-20.0</td>\n",
       "      <td>0.0</td>\n",
       "      <td>64000.0</td>\n",
       "      <td>0.34</td>\n",
       "      <td>0.284537</td>\n",
       "    </tr>\n",
       "  </tbody>\n",
       "</table>\n",
       "</div>"
      ],
      "text/plain": [
       "   index_  DISA  ALTITUDE     MASS  MACH  FUELFLOW\n",
       "0   29069 -20.0       0.0  64000.0  0.30  0.274195\n",
       "1   30138 -20.0       0.0  64000.0  0.32  0.277547\n",
       "2   27130 -20.0       0.0  64000.0  0.24  0.296419\n",
       "3   31341 -20.0       0.0  64000.0  0.34  0.284537"
      ]
     },
     "execution_count": 281,
     "metadata": {},
     "output_type": "execute_result"
    }
   ],
   "source": []
  },
  {
   "cell_type": "code",
   "execution_count": 289,
   "metadata": {},
   "outputs": [
    {
     "data": {
      "text/plain": [
       "0.010332000000000008"
      ]
     },
     "execution_count": 289,
     "metadata": {},
     "output_type": "execute_result"
    }
   ],
   "source": [
    "z_inter = z.append(test)\n",
    "\n",
    "z_inter = z[0:2].append(test)\n",
    "z_inter = z_inter.append(z[2:4])\n",
    "y_inter = z_inter.interpolate(method = 'linear')['FUELFLOW']\n",
    "y_inter.iloc[2] - y_check\n",
    "#mean_squared_error(y_inter.iloc[2], y_check)"
   ]
  },
  {
   "cell_type": "code",
   "execution_count": 206,
   "metadata": {},
   "outputs": [
    {
     "data": {
      "text/plain": [
       "DISA          -30.0\n",
       "ALTITUDE    27000.0\n",
       "MASS        44000.0\n",
       "MACH            0.7\n",
       "Name: 70905, dtype: float64"
      ]
     },
     "execution_count": 206,
     "metadata": {},
     "output_type": "execute_result"
    }
   ],
   "source": [
    "#X_train.sort_values('distance').iloc[0:5]\n",
    "#X_train.index.values\n",
    "#y_train.iloc[]\n",
    "\n",
    "test"
   ]
  },
  {
   "cell_type": "code",
   "execution_count": null,
   "metadata": {},
   "outputs": [],
   "source": []
  }
 ],
 "metadata": {
  "kernelspec": {
   "display_name": "Python 3",
   "language": "python",
   "name": "python3"
  },
  "language_info": {
   "codemirror_mode": {
    "name": "ipython",
    "version": 3
   },
   "file_extension": ".py",
   "mimetype": "text/x-python",
   "name": "python",
   "nbconvert_exporter": "python",
   "pygments_lexer": "ipython3",
   "version": "3.7.4"
  }
 },
 "nbformat": 4,
 "nbformat_minor": 2
}
