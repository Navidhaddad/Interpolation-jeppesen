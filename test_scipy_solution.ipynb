{
 "cells": [
  {
   "cell_type": "code",
   "execution_count": 1,
   "metadata": {},
   "outputs": [],
   "source": [
    "import pandas as pd\n",
    "import numpy as np\n",
    "\n",
    "import json \n",
    "\n",
    "from scipy_interpolation_functions import closest_points\n",
    "from scipy_interpolation_functions import scipy_interpolation_linear\n",
    "from scipy_interpolation_functions import scipy_interpolation_nearest\n",
    "\n",
    "\n",
    "import scipy\n",
    "from scipy import interpolate\n"
   ]
  },
  {
   "cell_type": "code",
   "execution_count": 2,
   "metadata": {},
   "outputs": [],
   "source": [
    "with open('data_rich_ac.bsad') as json_file:\n",
    "    json_data = json.load(json_file)\n",
    "    \n",
    "frames = []\n",
    "for j in range(len(json_data['tables'])):\n",
    "    df = pd.DataFrame(np.array(json_data['tables'][j]['table'])[:,:], \n",
    "                           columns = json_data['tables'][j]['header']['variables'][:])\n",
    "    df['state'] = json_data['tables'][j]['header']['flightphase']\n",
    "    if df['state'][0] == 'cruise':\n",
    "        frames.append(df)\n",
    "    \n",
    "df = pd.concat(frames,ignore_index=True)\n",
    "df = df[['DISA','ALTITUDE','MASS','MACH','FUELFLOW']]"
   ]
  },
  {
   "cell_type": "code",
   "execution_count": 10,
   "metadata": {
    "scrolled": false
   },
   "outputs": [
    {
     "name": "stdout",
     "output_type": "stream",
     "text": [
      "5.505426952142178e-05\n"
     ]
    }
   ],
   "source": [
    "temp = df.drop(['FUELFLOW'], axis=1)\n",
    "val =[]\n",
    "dif= []\n",
    "\n",
    "for i in range(14300,14400) :\n",
    "    #choose point to interpolate\n",
    "    interpol_point = temp.iloc[i]\n",
    "    \n",
    "    deleted_df = df.drop([i],axis=0)\n",
    "    \n",
    "    #call function\n",
    "    value = scipy_interpolation_linear(deleted_df,interpol_point)\n",
    "\n",
    "    if np.isnan(value)== True : #Extrapolate\n",
    "        y = deleted_df.FUELFLOW\n",
    "        X = deleted_df.drop(['FUELFLOW'], axis=1)\n",
    "        point,value = closest_points(X,y,interpol_point,1)\n",
    "        value = np.array(value)\n",
    "        print(value)\n",
    "        \n",
    "    difference = abs(value - df['FUELFLOW'].iloc[i])\n",
    "    val.append(value)\n",
    "    dif.append(difference)\n",
    "\n",
    "\n",
    "    \n",
    "print(np.mean(dif))"
   ]
  },
  {
   "cell_type": "code",
   "execution_count": 11,
   "metadata": {},
   "outputs": [
    {
     "name": "stdout",
     "output_type": "stream",
     "text": [
      "0.003792820000000001\n"
     ]
    }
   ],
   "source": [
    "temp = df.drop(['FUELFLOW'], axis=1)\n",
    "val =[]\n",
    "dif= []\n",
    "\n",
    "for i in range(78000,78100) :\n",
    "    #choose point to interpolate\n",
    "    interpol_point = temp.iloc[i]\n",
    "    \n",
    "    deleted_df = df.drop([i],axis=0)\n",
    "    \n",
    "    #call function\n",
    "    value = scipy_interpolation_nearest(deleted_df,interpol_point)\n",
    "    difference = np.array(abs(value - df['FUELFLOW'].iloc[i]))\n",
    "    val.append(value)\n",
    "    dif.append(difference)\n",
    "    \n",
    "    \n",
    "print(np.mean(dif))\n"
   ]
  },
  {
   "cell_type": "code",
   "execution_count": null,
   "metadata": {},
   "outputs": [],
   "source": []
  }
 ],
 "metadata": {
  "kernelspec": {
   "display_name": "Python 3",
   "language": "python",
   "name": "python3"
  },
  "language_info": {
   "codemirror_mode": {
    "name": "ipython",
    "version": 3
   },
   "file_extension": ".py",
   "mimetype": "text/x-python",
   "name": "python",
   "nbconvert_exporter": "python",
   "pygments_lexer": "ipython3",
   "version": "3.7.4"
  }
 },
 "nbformat": 4,
 "nbformat_minor": 2
}
